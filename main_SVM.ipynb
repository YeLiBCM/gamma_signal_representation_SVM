{
 "cells": [
  {
   "cell_type": "markdown",
   "metadata": {},
   "source": [
    "## Use machine learning modeling to investigate which gamma frequency band represents the contrast level of grating stimuli.\n",
    "\n",
    "This notebook demonstrates the pipeline of using __Support Vector Machine (SVM)__ to test which gamma frequency band can predict the contrast information of grating stimulus presented to the patient subject.\n",
    "\n",
    "Check the following link for the research story of why I am doing it: https://www.cell.com/current-biology/fulltext/S0960-9822(19)31020-6?_returnURL=https%3A%2F%2Flinkinghub.elsevier.com%2Fretrieve%2Fpii%2FS0960982219310206%3Fshowall%3Dtrue#secsectitle0035\n",
    "\n",
    "The following analysis is relevant to the result session __\"Gratings Contrast Can Be Decoded Better Using NBG Than BBG\"__, and method session __\"Visual grating contrast classification\"__.\n",
    "\n",
    "Two frequency band to compare are: 20-60 Hz (variable name in the code is 'NBG'), 70-150 Hz (variable name in the code is 'BBG').\n",
    "\n",
    "This notebook will: \n",
    "<br>\n",
    "1) read event files to extract contrast information of trials from the task.\n",
    "<br>\n",
    "2) read feature file to extract feature matrix as the input for the SVM modeling.\n",
    "\n",
    "Note: \n",
    "<br>\n",
    "1) This notebook won't provide the codes for the preprocessing step for the ECoG data. The data is already clean and transform into time-frequency data using Morlet wavelet transform (codes were not provided in the repositories). You can take a loot at 'extract_epoch.m' (use in MATLAB) to see how I extract the task epoch into the feature file I need for the modeling. However, you may have a different way to structure your EEG/ECoG file and may do it in a different way.\n",
    "<br>\n",
    "2) This notebook mainly demonstrate how the modeling is done in one single electrode in one patients."
   ]
  },
  {
   "cell_type": "code",
   "execution_count": 1,
   "metadata": {},
   "outputs": [],
   "source": [
    "import os\n",
    "import scipy.io as sio\n",
    "import numpy as np\n",
    "import pandas as pd\n",
    "import itertools\n",
    "from sklearn import svm,preprocessing\n",
    "from sklearn.model_selection import LeaveOneOut, permutation_test_score\n",
    "from sklearn.metrics import accuracy_score\n",
    "from sklearn.pipeline import Pipeline"
   ]
  },
  {
   "cell_type": "markdown",
   "metadata": {},
   "source": [
    "### 1. Read event file to extract the condition labels of task trials"
   ]
  },
  {
   "cell_type": "markdown",
   "metadata": {},
   "source": [
    "Set the path of the file and read the mat file of condition events. I have provided one example event file from one task block of one patient subject in this repository."
   ]
  },
  {
   "cell_type": "code",
   "execution_count": 2,
   "metadata": {},
   "outputs": [],
   "source": [
    "# set path and read event file\n",
    "# modify the event_path based on how you save your data\n",
    "\n",
    "event_path   = 'example_data/task_events_example.mat'\n",
    "event_file   = sio.loadmat(event_path)"
   ]
  },
  {
   "cell_type": "markdown",
   "metadata": {},
   "source": [
    "In this project, there are trials of a given condition that I want to exclude, here I delete the events of those trials (trials present patients with a grating stimulus at the orientation of 45 degree)."
   ]
  },
  {
   "cell_type": "code",
   "execution_count": 3,
   "metadata": {},
   "outputs": [],
   "source": [
    "# get contrast labels and detele those at 45 degree\n",
    "contrast     = np.asscalar(event_file['events_info']['trial_contrast'])\n",
    "odd_orient   = np.asscalar(event_file['events_info']['trial_orientation']) \n",
    "contrast_new = np.delete(contrast, np.where(odd_orient == 45)[0]) "
   ]
  },
  {
   "cell_type": "markdown",
   "metadata": {},
   "source": [
    " I recode the task condition into 1,2,3 for three different task conditions."
   ]
  },
  {
   "cell_type": "code",
   "execution_count": 4,
   "metadata": {},
   "outputs": [],
   "source": [
    "# label the task conditions (1 = 20% contrast, 2 = 50% contrast, 3 = 100% contrast)\n",
    "label_v                 = np.reshape(contrast_new,(90,))\n",
    "label_v[label_v == 1]   = 3\n",
    "label_v[label_v == 0.5] = 2\n",
    "label_v[label_v == 0.2] = 1"
   ]
  },
  {
   "cell_type": "markdown",
   "metadata": {},
   "source": [
    "Cool, the label_v is the label file we want for the machine learning training process (the 'observed values' of output in a prediction question).\n",
    "\n",
    "Next, I will extract the feature matrix for the model training and prediction."
   ]
  },
  {
   "cell_type": "markdown",
   "metadata": {},
   "source": [
    "### 2. Read the time-series data\n",
    "With this notebook, the real data of one electrode from our patients is provided in the repository."
   ]
  },
  {
   "cell_type": "code",
   "execution_count": 5,
   "metadata": {},
   "outputs": [],
   "source": [
    "# read time series data\n",
    "# the data with be the spectrogram data of one task block\n",
    "tf_path = 'example_data/tf_epochs_example.mat'\n",
    "tf_data = sio.loadmat(tf_path) # it is a dict file, the \"tf_epochs\" in it is the features we need"
   ]
  },
  {
   "cell_type": "markdown",
   "metadata": {},
   "source": [
    "Take a look at the shape of the data to understand it."
   ]
  },
  {
   "cell_type": "code",
   "execution_count": 6,
   "metadata": {},
   "outputs": [
    {
     "data": {
      "text/plain": [
       "(200, 250, 90)"
      ]
     },
     "execution_count": 6,
     "metadata": {},
     "output_type": "execute_result"
    }
   ],
   "source": [
    "tf_data['tf_epochs'].shape"
   ]
  },
  {
   "cell_type": "markdown",
   "metadata": {},
   "source": [
    "Dimensions of tf_data['tf_epochs'] mean:\n",
    "<br>\n",
    "\"200\" frequency points, from 2 Hz to 201 Hz;\n",
    "<br>\n",
    "\"250\" time poins, from 250 ms to 500 ms after the stimulus onset;\n",
    "<br>\n",
    "\"90\" trials of the task -- grating stimuli at three contrast levels were shown to the subject for 90 times in one task.\n",
    "\n",
    "We need to take the average of the data across the time window:"
   ]
  },
  {
   "cell_type": "code",
   "execution_count": 7,
   "metadata": {},
   "outputs": [],
   "source": [
    "tf_avg = np.mean(tf_data['tf_epochs'],axis =1)"
   ]
  },
  {
   "cell_type": "markdown",
   "metadata": {},
   "source": [
    "Next, define the variable of the boundary of two gamma frequency bands and extract the feature input matrixs."
   ]
  },
  {
   "cell_type": "code",
   "execution_count": 8,
   "metadata": {},
   "outputs": [],
   "source": [
    "# define two gammas\n",
    "NBG = [20,60]\n",
    "BBG = [70,150]\n",
    "\n",
    "# get feature inputs\n",
    "feature_NBG = tf_avg[(NBG[0]-2):(NBG[1]-1),:].T # transform the matrix to make the column is frequency info\n",
    "feature_BBG = tf_avg[(BBG[0]-2):(BBG[1]-1),:].T"
   ]
  },
  {
   "cell_type": "markdown",
   "metadata": {},
   "source": [
    "Finally we can run the model.\n",
    "\n",
    "The model pipeline will:\n",
    "<br>\n",
    "1) Scale the data using MinMax method.\n",
    "<br>\n",
    "2) Implement a leave-one-out-cross-validation method to get the prediction accuracy.\n",
    "<br>\n",
    "3) Get the significant level of the prediction accuracy using permutation test. (In this notebook we will use 1000-time-permutation).\n",
    "\n",
    "In the brain science, the aim is not to create a fancy model to have the highest prediction performance, but to use modeling method to compare the prediction performance of different brain signals. In this way, we can figure out whether a given brain function is represented by a given brain signal, or the brain signal from a given brain region.\n",
    "\n",
    "Here we want to compare:\n",
    "<br>\n",
    "1) The prediction performance of model using NBG as input vs using BBG as input -- so we can see which frequency band is representing the stimulus contrast information.\n",
    "<br>\n",
    "2) The prediction performance of model using NBG within visual cortex vs outside of visual cortex -- it serves as a great control analysis to validate the SVM model, the NBG from areas outside of visual cortex should not be able to predict the stimulus visual properties.\n"
   ]
  },
  {
   "cell_type": "code",
   "execution_count": 9,
   "metadata": {},
   "outputs": [],
   "source": [
    "# function of the SVM modeling\n",
    "def linear_SVM(feature_mx,npermu,label):\n",
    "    \"\"\"This function conduct SVM on single electrode data.\n",
    "    \n",
    "    feature_mx: the feature input of the model.\n",
    "    \n",
    "    nperm: number of permutation times. \n",
    "    \n",
    "    label: label vector. \"\"\"\n",
    " \n",
    "    # SVM pipeline\n",
    "    loo = LeaveOneOut()\n",
    "    pipe = Pipeline([('scaler', preprocessing.MinMaxScaler()),('clf', svm.SVC(kernel='linear'))])\n",
    "    score, permutation_scores, pvalue = permutation_test_score(pipe, feature_mx, label, scoring = 'accuracy', cv=loo, n_permutations=npermu, n_jobs = -1)\n",
    "\n",
    "    return score,pvalue"
   ]
  },
  {
   "cell_type": "code",
   "execution_count": 10,
   "metadata": {},
   "outputs": [
    {
     "name": "stdout",
     "output_type": "stream",
     "text": [
      "the accuracy of model prediction using NBG is:0.6444444444444445; p-value: 0.000999000999000999\n",
      "the accuracy of model prediction using BBG is:0.4222222222222222; p-value: 0.060939060939060936\n"
     ]
    }
   ],
   "source": [
    "# get the prediction results\n",
    "score_NBG, pvalue_NBG = linear_SVM(feature_NBG,1000,label_v)\n",
    "score_BBG, pvalue_BBG = linear_SVM(feature_BBG,1000,label_v)\n",
    "print('the accuracy of model prediction using NBG is:' + str(score_NBG) + '; p-value: ' + str(pvalue_NBG))\n",
    "print('the accuracy of model prediction using BBG is:' + str(score_BBG) + '; p-value: ' + str(pvalue_BBG))"
   ]
  },
  {
   "cell_type": "markdown",
   "metadata": {},
   "source": [
    "From this example electrode we can see the NBG is representing the stimulus visual property -- contrast level. \n",
    "\n",
    "Next I will extract the data of an electrode from areas outside of visual cortex and do the same modeling again.\n"
   ]
  },
  {
   "cell_type": "code",
   "execution_count": 11,
   "metadata": {},
   "outputs": [],
   "source": [
    "# read data and make input feature\n",
    "tf_path = 'example_data/tf_epochs_example_nonvisual.mat'\n",
    "tf_data = sio.loadmat(tf_path)\n",
    "tf_avg = np.mean(tf_data['tf_epochs'],axis =1)\n",
    "feature_nonvisual = tf_avg[(NBG[0]-2):(NBG[1]-1),:].T"
   ]
  },
  {
   "cell_type": "code",
   "execution_count": 12,
   "metadata": {},
   "outputs": [
    {
     "name": "stdout",
     "output_type": "stream",
     "text": [
      "the accuracy of model prediction using NBG outside of visual area is:0.36666666666666664; p-value: 0.17682317682317683\n"
     ]
    }
   ],
   "source": [
    "# get the prediction result\n",
    "score_nonvisual, pvalue_nonvisual = linear_SVM(feature_nonvisual,1000,label_v)\n",
    "print('the accuracy of model prediction using NBG outside of visual area is:' + str(score_nonvisual) + '; p-value: ' + str(pvalue_nonvisual))"
   ]
  },
  {
   "cell_type": "markdown",
   "metadata": {},
   "source": [
    "As expected, the NBG outside of visual area cannot predict the contrast level of the visual stimulus well, so we know the model works.\n",
    "Next, loop through all the visual electrodes from all the patients to get the prediction accuracy and p-value for each electrode."
   ]
  },
  {
   "cell_type": "code",
   "execution_count": null,
   "metadata": {},
   "outputs": [],
   "source": []
  }
 ],
 "metadata": {
  "kernelspec": {
   "display_name": "Python 3",
   "language": "python",
   "name": "python3"
  },
  "language_info": {
   "codemirror_mode": {
    "name": "ipython",
    "version": 3
   },
   "file_extension": ".py",
   "mimetype": "text/x-python",
   "name": "python",
   "nbconvert_exporter": "python",
   "pygments_lexer": "ipython3",
   "version": "3.7.3"
  }
 },
 "nbformat": 4,
 "nbformat_minor": 4
}
